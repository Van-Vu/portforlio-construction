{
 "cells": [
  {
   "cell_type": "code",
   "execution_count": 24,
   "metadata": {},
   "outputs": [
    {
     "output_type": "stream",
     "name": "stdout",
     "text": "The autoreload extension is already loaded. To reload it, use:\n  %reload_ext autoreload\n"
    },
    {
     "output_type": "execute_result",
     "data": {
      "text/plain": "          Lo 20   Hi 20\n1926-07 -0.0057  0.0333\n1926-08  0.0384  0.0233\n1926-09 -0.0048 -0.0009\n1926-10 -0.0329 -0.0295\n1926-11 -0.0055  0.0316",
      "text/html": "<div>\n<style scoped>\n    .dataframe tbody tr th:only-of-type {\n        vertical-align: middle;\n    }\n\n    .dataframe tbody tr th {\n        vertical-align: top;\n    }\n\n    .dataframe thead th {\n        text-align: right;\n    }\n</style>\n<table border=\"1\" class=\"dataframe\">\n  <thead>\n    <tr style=\"text-align: right;\">\n      <th></th>\n      <th>Lo 20</th>\n      <th>Hi 20</th>\n    </tr>\n  </thead>\n  <tbody>\n    <tr>\n      <th>1926-07</th>\n      <td>-0.0057</td>\n      <td>0.0333</td>\n    </tr>\n    <tr>\n      <th>1926-08</th>\n      <td>0.0384</td>\n      <td>0.0233</td>\n    </tr>\n    <tr>\n      <th>1926-09</th>\n      <td>-0.0048</td>\n      <td>-0.0009</td>\n    </tr>\n    <tr>\n      <th>1926-10</th>\n      <td>-0.0329</td>\n      <td>-0.0295</td>\n    </tr>\n    <tr>\n      <th>1926-11</th>\n      <td>-0.0055</td>\n      <td>0.0316</td>\n    </tr>\n  </tbody>\n</table>\n</div>"
     },
     "metadata": {},
     "execution_count": 24
    }
   ],
   "source": [
    "%load_ext autoreload\n",
    "%autoreload 2\n",
    "\n",
    "import pandas as pd\n",
    "import mylib as lib\n",
    "import numpy as np\n",
    "\n",
    "prices = lib.readcsv('data/Portfolios_Formed_on_ME_monthly_EW.csv')\n",
    "columns = [\"Lo 20\", \"Hi 20\"]\n",
    "prices = prices[columns]\n",
    "prices.head()"
   ]
  },
  {
   "cell_type": "code",
   "execution_count": 19,
   "metadata": {},
   "outputs": [
    {
     "output_type": "execute_result",
     "data": {
      "text/plain": "Lo 20    0.151977\nHi 20    0.098490\ndtype: float64"
     },
     "metadata": {},
     "execution_count": 19
    }
   ],
   "source": [
    "monthly_returns = (prices + 1).prod()**(1/prices.shape[0]) - 1\n",
    "monthly_returns\n",
    "annualized_returns = (monthly_returns + 1) ** 12 - 1\n",
    "annualized_returns"
   ]
  },
  {
   "cell_type": "code",
   "execution_count": 25,
   "metadata": {},
   "outputs": [
    {
     "output_type": "execute_result",
     "data": {
      "text/plain": "Lo 20    0.336701\nHi 20    0.195116\ndtype: float64"
     },
     "metadata": {},
     "execution_count": 25
    }
   ],
   "source": [
    "monthly_vol = prices.std()\n",
    "annualized_vol = monthly_vol * np.sqrt(12)\n",
    "annualized_vol"
   ]
  },
  {
   "cell_type": "code",
   "execution_count": 28,
   "metadata": {},
   "outputs": [
    {
     "output_type": "execute_result",
     "data": {
      "text/plain": "Lo 20    0.114426\nHi 20    0.062865\ndtype: float64"
     },
     "metadata": {},
     "execution_count": 28
    }
   ],
   "source": [
    "lib.annualized_return(prices[\"1999\":\"2015\"])"
   ]
  },
  {
   "cell_type": "code",
   "execution_count": 32,
   "metadata": {},
   "outputs": [
    {
     "output_type": "execute_result",
     "data": {
      "text/plain": "Lo 20    0.228894\nHi 20    0.172713\ndtype: float64"
     },
     "metadata": {},
     "execution_count": 32
    }
   ],
   "source": [
    "lib.annualized_vol(prices[\"1999\":\"2015\"])"
   ]
  },
  {
   "cell_type": "code",
   "execution_count": 35,
   "metadata": {},
   "outputs": [
    {
     "output_type": "execute_result",
     "data": {
      "text/plain": "Lo 20   -0.2080\nHi 20   -0.2006\ndtype: float64"
     },
     "metadata": {},
     "execution_count": 35
    }
   ],
   "source": [
    "prices[\"1999\":\"2015\"].min()"
   ]
  },
  {
   "cell_type": "code",
   "execution_count": 39,
   "metadata": {},
   "outputs": [
    {
     "output_type": "execute_result",
     "data": {
      "text/plain": "Fixed Income Arbitrage    0.003321\nMerger Arbitrage          0.003611\nGlobal Macro              0.005075\nEquity Market Neutral     0.005186\nRelative Value            0.005711\nConvertible Arbitrage     0.006681\nFunds Of Funds            0.007948\nDistressed Securities     0.009498\nEvent Driven              0.010135\nCTA Global                0.010996\nLong/Short Equity         0.012139\nEmerging Markets          0.015276\nShort Selling             0.021240\ndtype: float64"
     },
     "metadata": {},
     "execution_count": 39
    }
   ],
   "source": [
    "hf = lib.readcsv('data\\edhec-hedgefundindices.csv')\n",
    "data = hf[\"2009\":]\n",
    "lib.semidiviation(data).sort_values()"
   ]
  },
  {
   "cell_type": "code",
   "execution_count": 42,
   "metadata": {},
   "outputs": [
    {
     "output_type": "execute_result",
     "data": {
      "text/plain": "CTA Global                2.591087\nMerger Arbitrage          2.715238\nGlobal Macro              3.164362\nDistressed Securities     3.319725\nEvent Driven              3.620617\nFunds Of Funds            3.816132\nLong/Short Equity         4.115713\nShort Selling             4.175832\nEmerging Markets          4.401636\nRelative Value            4.512482\nEquity Market Neutral     5.071677\nFixed Income Arbitrage    6.406941\nConvertible Arbitrage     6.775731\ndtype: float64"
     },
     "metadata": {},
     "execution_count": 42
    }
   ],
   "source": [
    "lib.kurtosis(data).sort_values()"
   ]
  }
 ],
 "metadata": {
  "language_info": {
   "codemirror_mode": {
    "name": "ipython",
    "version": 3
   },
   "file_extension": ".py",
   "mimetype": "text/x-python",
   "name": "python",
   "nbconvert_exporter": "python",
   "pygments_lexer": "ipython3",
   "version": "3.7.6-final"
  },
  "orig_nbformat": 2,
  "kernelspec": {
   "name": "python3",
   "display_name": "Python 3"
  }
 },
 "nbformat": 4,
 "nbformat_minor": 2
}