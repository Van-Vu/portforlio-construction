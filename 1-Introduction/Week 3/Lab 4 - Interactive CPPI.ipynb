{
 "cells": [
  {
   "cell_type": "code",
   "execution_count": 1,
   "metadata": {},
   "outputs": [],
   "source": [
    "%load_ext autoreload\n",
    "%autoreload 2\n",
    "import numpy as np\n",
    "import pandas as pd\n",
    "import mylib as lib\n",
    "import ipywidgets as widgets\n",
    "pd.set_option('display.float_format', lambda x: '%.6f' % x)"
   ]
  },
  {
   "cell_type": "code",
   "execution_count": 26,
   "metadata": {},
   "outputs": [],
   "source": [
    "def plot_gbm(n_year, scenario):\n",
    "    initial_wealth = 100\n",
    "    prices = lib.gbm(n_year, scenario)\n",
    "    ax = prices.plot(legend = False, figsize=(12,6), color=\"darkblue\", alpha=0.5)\n",
    "    ax.axhline(y=initial_wealth, ls=':', color=\"black\")\n",
    "    ax.plot(0, initial_wealth)"
   ]
  },
  {
   "cell_type": "code",
   "execution_count": 28,
   "metadata": {},
   "outputs": [
    {
     "output_type": "display_data",
     "data": {
      "text/plain": "interactive(children=(IntSlider(value=5, description='n_year', max=10, min=1), IntSlider(value=250, descriptio…",
      "application/vnd.jupyter.widget-view+json": {
       "version_major": 2,
       "version_minor": 0,
       "model_id": "beb2ce9c2e6a443189c06e3bb32409db"
      }
     },
     "metadata": {}
    }
   ],
   "source": [
    "widgets.interactive(plot_gbm,n_year=(1,10,1), scenario=(0,500,50))"
   ]
  },
  {
   "cell_type": "code",
   "execution_count": 99,
   "metadata": {},
   "outputs": [],
   "source": [
    "def plot_cppi(n_years=10, n_scenarios=1000, mu=0.07, sigma=0.15, cash_rate=0.03, floor=0.8, multiplier=3, y_max=100):\n",
    "    initial_wealth = 100\n",
    "    prices = lib.gbm(n_years, n_scenarios, mu, sigma, initial_wealth, return_price=False)\n",
    "    risky_r = pd.DataFrame(prices)\n",
    "    #print(risky_r)\n",
    "    #risky_change = risky_r.pct_change()\n",
    "    #risky_r.iloc[0] = 0\n",
    "    #print(risky_change)\n",
    "    cppi = lib.run_cppi(risky_assets_return=risky_r, initial_wealth= initial_wealth, cash_rate=cash_rate, floor=floor, multiplier=multiplier)\n",
    "    #print(cppi[\"AccountHistory\"])\n",
    "    ax = cppi[\"AccountHistory\"].plot(legend = False, figsize=(12,6), color=\"darkblue\", alpha=0.2)\n",
    "    print(cppi[\"AccountHistory\"].iloc[-1])\n",
    "    ax.axhline(y=initial_wealth, ls=':', color=\"black\")\n",
    "    ax.axhline(y=initial_wealth*floor, ls='--', color=\"red\")\n",
    "    ax.plot(0, initial_wealth)\n",
    "    y_max = cppi[\"AccountHistory\"].values.max()*y_max/100\n",
    "    ax.set_ylim(top=y_max)"
   ]
  },
  {
   "cell_type": "code",
   "execution_count": 101,
   "metadata": {},
   "outputs": [],
   "source": [
    "show_cppi = widgets.interactive(plot_cppi, n_years=widgets.IntSlider(min=0, max=10,value=2,step=1), \n",
    "    n_scenarios= widgets.IntSlider(min=0, max=1000,value=50,step=50), \n",
    "    mu=(.0, .5, .01), \n",
    "    sigma=(.0, 1.0, .05), \n",
    "    cash_rate=(.0, .1, .01), \n",
    "    floor=(.0, 1., .05), \n",
    "    multiplier=(.0, 10., .5),\n",
    "    y_max=widgets.IntSlider(min=0, max=100,value=100,step=1, label=\"Zoom\"))"
   ]
  },
  {
   "cell_type": "code",
   "execution_count": 102,
   "metadata": {},
   "outputs": [
    {
     "output_type": "display_data",
     "data": {
      "text/plain": "interactive(children=(IntSlider(value=2, description='n_years', max=10), IntSlider(value=50, description='n_sc…",
      "application/vnd.jupyter.widget-view+json": {
       "version_major": 2,
       "version_minor": 0,
       "model_id": "62784444dcc64c13bb08fd2e0a1cdf1d"
      }
     },
     "metadata": {}
    }
   ],
   "source": [
    "display(show_cppi)"
   ]
  }
 ],
 "metadata": {
  "language_info": {
   "codemirror_mode": {
    "name": "ipython",
    "version": 3
   },
   "file_extension": ".py",
   "mimetype": "text/x-python",
   "name": "python",
   "nbconvert_exporter": "python",
   "pygments_lexer": "ipython3",
   "version": "3.7.6-final"
  },
  "orig_nbformat": 2,
  "kernelspec": {
   "name": "python3",
   "display_name": "Python 3"
  }
 },
 "nbformat": 4,
 "nbformat_minor": 2
}