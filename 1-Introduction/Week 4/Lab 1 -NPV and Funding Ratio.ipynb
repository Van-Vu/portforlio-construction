{
 "cells": [
  {
   "cell_type": "code",
   "execution_count": 2,
   "metadata": {},
   "outputs": [],
   "source": [
    "%load_ext autoreload\n",
    "%autoreload 2\n",
    "import numpy as np\n",
    "import pandas as pd\n",
    "import mylib as lib\n",
    "pd.set_option('display.float_format', lambda x: '%.3f' % x)"
   ]
  },
  {
   "cell_type": "code",
   "execution_count": 9,
   "metadata": {},
   "outputs": [],
   "source": [
    "def discount(time_period, interest_rate):\n",
    "    return 1 / (1+interest_rate)**time_period\n",
    "\n",
    "def npv(liabilities, interest_rate):\n",
    "    dates= liabilities.index\n",
    "    discounts = discount(dates, interest_rate)\n",
    "    return (discounts*liabilities).sum()"
   ]
  },
  {
   "cell_type": "code",
   "execution_count": 7,
   "metadata": {},
   "outputs": [
    {
     "output_type": "execute_result",
     "data": {
      "text/plain": "0.7440939148967249"
     },
     "metadata": {},
     "execution_count": 7
    }
   ],
   "source": [
    "discount(10, .03)"
   ]
  },
  {
   "cell_type": "code",
   "execution_count": 10,
   "metadata": {},
   "outputs": [
    {
     "output_type": "execute_result",
     "data": {
      "text/plain": "6.233320315080044"
     },
     "metadata": {},
     "execution_count": 10
    }
   ],
   "source": [
    "liabilities = pd.Series(data=[1, 1.5, 2, 2.5], index=[3, 3.5, 4, 4.5])\n",
    "npv(liabilities, .03)"
   ]
  },
  {
   "cell_type": "code",
   "execution_count": 11,
   "metadata": {},
   "outputs": [],
   "source": [
    "def funding_ratio(asset, liabilities, interest_rate):\n",
    "    return asset / npv(liabilities, interest_rate)"
   ]
  },
  {
   "cell_type": "code",
   "execution_count": 12,
   "metadata": {},
   "outputs": [
    {
     "output_type": "execute_result",
     "data": {
      "text/plain": "0.8021407126958778"
     },
     "metadata": {},
     "execution_count": 12
    }
   ],
   "source": [
    "funding_ratio(5, liabilities, .03)"
   ]
  },
  {
   "cell_type": "code",
   "execution_count": 13,
   "metadata": {},
   "outputs": [
    {
     "output_type": "execute_result",
     "data": {
      "text/plain": "0.8649082768407929"
     },
     "metadata": {},
     "execution_count": 13
    }
   ],
   "source": [
    "funding_ratio(5, liabilities, .05)"
   ]
  }
 ],
 "metadata": {
  "language_info": {
   "codemirror_mode": {
    "name": "ipython",
    "version": 3
   },
   "file_extension": ".py",
   "mimetype": "text/x-python",
   "name": "python",
   "nbconvert_exporter": "python",
   "pygments_lexer": "ipython3",
   "version": "3.7.6-final"
  },
  "orig_nbformat": 2,
  "kernelspec": {
   "name": "python3",
   "display_name": "Python 3"
  }
 },
 "nbformat": 4,
 "nbformat_minor": 2
}